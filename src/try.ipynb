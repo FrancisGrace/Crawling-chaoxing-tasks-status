{
 "cells": [
  {
   "cell_type": "code",
   "execution_count": 30,
   "metadata": {},
   "outputs": [],
   "source": [
    "from selenium.webdriver import Chrome\n",
    "from selenium.webdriver.chrome.options import Options\n",
    "from selenium.webdriver.remote.webelement import WebElement\n",
    "from typing import *\n",
    "import os\n",
    "import time"
   ]
  },
  {
   "cell_type": "code",
   "execution_count": 31,
   "metadata": {},
   "outputs": [],
   "source": [
    "ops = Options()\n",
    "user_data = r'./user-data'\n",
    "if os.path.exists(user_data) == False:\n",
    "    os.mkdir(user_data)\n",
    "ops.add_argument(f'user-data-dir={user_data}')"
   ]
  },
  {
   "cell_type": "code",
   "execution_count": 32,
   "metadata": {},
   "outputs": [],
   "source": [
    "web = Chrome(options=ops)"
   ]
  },
  {
   "cell_type": "code",
   "execution_count": 33,
   "metadata": {},
   "outputs": [
    {
     "data": {
      "text/plain": [
       "['CDwindow-F88451EC43B4B868C547B33F199F02B0']"
      ]
     },
     "execution_count": 33,
     "metadata": {},
     "output_type": "execute_result"
    }
   ],
   "source": [
    "web.window_handles"
   ]
  },
  {
   "cell_type": "code",
   "execution_count": 34,
   "metadata": {},
   "outputs": [],
   "source": [
    "url = \"https://mooc2-ans.chaoxing.com/visit/interaction\""
   ]
  },
  {
   "cell_type": "code",
   "execution_count": 35,
   "metadata": {},
   "outputs": [],
   "source": [
    "web.get(url)\n",
    "time.sleep(3)"
   ]
  },
  {
   "cell_type": "code",
   "execution_count": 36,
   "metadata": {},
   "outputs": [],
   "source": [
    "# els = web.find_elements_by_xpath(r'/html/body/div[1]/div[1]/div/div[2]/div/div[2]/div[3]/ul[1]/li/div[1]/a')\n",
    "els = web.find_elements_by_xpath(r'/html/body/div[1]/div[1]/div/div[2]/div/div[2]/div[3]/ul[1]/li/div[2]/h3/a')\n"
   ]
  },
  {
   "cell_type": "code",
   "execution_count": 37,
   "metadata": {},
   "outputs": [],
   "source": [
    "els: List[WebElement]"
   ]
  },
  {
   "cell_type": "code",
   "execution_count": 70,
   "metadata": {},
   "outputs": [],
   "source": [
    "els[1].click()\n",
    "# time.sleep(3)"
   ]
  },
  {
   "cell_type": "code",
   "execution_count": 71,
   "metadata": {},
   "outputs": [
    {
     "data": {
      "text/plain": [
       "'大数据管理技术'"
      ]
     },
     "execution_count": 71,
     "metadata": {},
     "output_type": "execute_result"
    }
   ],
   "source": [
    "els[0].text"
   ]
  },
  {
   "cell_type": "code",
   "execution_count": 72,
   "metadata": {},
   "outputs": [
    {
     "name": "stderr",
     "output_type": "stream",
     "text": [
      "/tmp/ipykernel_101603/2679155314.py:1: DeprecationWarning: use driver.switch_to.window instead\n",
      "  web.switch_to_window(web.window_handles[1])\n"
     ]
    }
   ],
   "source": [
    "web.switch_to_window(web.window_handles[1])"
   ]
  },
  {
   "cell_type": "code",
   "execution_count": 73,
   "metadata": {},
   "outputs": [],
   "source": [
    "# 切换到作业界面\n",
    "homework_button:WebElement = web.find_element_by_xpath(r'/html/body/div[1]/div[3]/div[1]/div/ul[1]/li[4]/a')\n",
    "homework_button.click()"
   ]
  },
  {
   "cell_type": "code",
   "execution_count": 42,
   "metadata": {},
   "outputs": [
    {
     "name": "stdout",
     "output_type": "stream",
     "text": [
      "<selenium.webdriver.remote.webelement.WebElement (session=\"b93a4d6c09c6cf7e8aee7d63010e9aa6\", element=\"ff72769a-885e-4679-91e0-6a8325f4bcb6\")>\n"
     ]
    },
    {
     "data": {
      "text/plain": [
       "'frame_content-hd'"
      ]
     },
     "execution_count": 42,
     "metadata": {},
     "output_type": "execute_result"
    }
   ],
   "source": [
    "# 进入其中一个页面\n",
    "iframe = web.find_element_by_xpath(r'/html/body/iframe[1]')\n",
    "print(iframe)\n",
    "iframe.get_attribute('id')"
   ]
  },
  {
   "cell_type": "code",
   "execution_count": 47,
   "metadata": {},
   "outputs": [],
   "source": [
    "web.switch_to.default_content()"
   ]
  },
  {
   "cell_type": "code",
   "execution_count": 74,
   "metadata": {},
   "outputs": [],
   "source": [
    "# 回到旧版来方便快速提取信息\n",
    "web.find_element_by_xpath(\"/html/body/div[1]/div[1]/div/a\").click()"
   ]
  },
  {
   "cell_type": "code",
   "execution_count": 79,
   "metadata": {},
   "outputs": [],
   "source": [
    "tasks = web.find_elements_by_xpath(\"/html/body/div[3]/div[1]/div/div/div/div[2]/ul/li\")"
   ]
  },
  {
   "cell_type": "code",
   "execution_count": 80,
   "metadata": {},
   "outputs": [
    {
     "name": "stdout",
     "output_type": "stream",
     "text": [
      "相对论部分模块总结作业\n",
      "开始时间：\n",
      "2020-12-14 20:29\n",
      "截止时间：\n",
      "2020-12-22 22:55\n",
      "作业状态：\n",
      "已完成\n",
      "95分\n",
      "查看\n"
     ]
    }
   ],
   "source": [
    "task:WebElement = tasks[0]\n",
    "print(task.text)"
   ]
  },
  {
   "cell_type": "code",
   "execution_count": 83,
   "metadata": {},
   "outputs": [],
   "source": [
    "# 数据\n",
    "items = task.find_elements_by_xpath(\"div/span\")\n",
    "# items = task.find_elements_by_tag_name(\"span\")"
   ]
  },
  {
   "cell_type": "code",
   "execution_count": 84,
   "metadata": {},
   "outputs": [
    {
     "name": "stdout",
     "output_type": "stream",
     "text": [
      "开始时间：\n",
      "2020-12-14 20:29\n",
      "---------------\n",
      "截止时间：\n",
      "2020-12-22 22:55\n",
      "---------------\n",
      "作业状态：\n",
      "已完成\n",
      "---------------\n",
      "95分\n",
      "---------------\n"
     ]
    }
   ],
   "source": [
    "for i in items:\n",
    "    print(rf'{i.text}')\n",
    "    print(\"---------------\")"
   ]
  },
  {
   "cell_type": "code",
   "execution_count": 158,
   "metadata": {},
   "outputs": [],
   "source": [
    "# # 新版条目提取\n",
    "# task_buttons = web.find_elements_by_xpath(r\"/html/body/div/div/div/div[2]/div[2]/ul/li\")\n",
    "# for i in task_buttons:\n",
    "#     print(i.text)"
   ]
  },
  {
   "cell_type": "code",
   "execution_count": 159,
   "metadata": {},
   "outputs": [
    {
     "name": "stdout",
     "output_type": "stream",
     "text": [
      "实验六、图形存储数据库Neo4j\n",
      "已完成\n",
      "大作业\n",
      "待批阅\n",
      "实验五 列式存储数据库HBase\n",
      "已完成\n",
      "实验四、键值对存储数据库Redis\n",
      "已完成\n",
      "实验二、MongoDB副本集\n",
      "已完成\n",
      "实验三、MongoDB分片\n",
      "已完成\n",
      "实验一、MongoDB数据库操作\n",
      "已完成\n"
     ]
    }
   ],
   "source": []
  },
  {
   "cell_type": "code",
   "execution_count": 150,
   "metadata": {},
   "outputs": [
    {
     "data": {
      "text/plain": [
       "''"
      ]
     },
     "execution_count": 150,
     "metadata": {},
     "output_type": "execute_result"
    }
   ],
   "source": []
  },
  {
   "cell_type": "code",
   "execution_count": 1,
   "metadata": {},
   "outputs": [],
   "source": [
    "from datetime import datetime, date, time"
   ]
  },
  {
   "cell_type": "code",
   "execution_count": 2,
   "metadata": {},
   "outputs": [],
   "source": [
    "dt = datetime.fromisoformat('2021-12-20 14:02')"
   ]
  },
  {
   "cell_type": "code",
   "execution_count": 9,
   "metadata": {},
   "outputs": [
    {
     "ename": "TypeError",
     "evalue": "combine() missing required argument 'date' (pos 1)",
     "output_type": "error",
     "traceback": [
      "\u001b[0;31m---------------------------------------------------------------------------\u001b[0m",
      "\u001b[0;31mTypeError\u001b[0m                                 Traceback (most recent call last)",
      "\u001b[0;32m/tmp/ipykernel_48597/1078626117.py\u001b[0m in \u001b[0;36m<module>\u001b[0;34m\u001b[0m\n\u001b[0;32m----> 1\u001b[0;31m \u001b[0mdt\u001b[0m\u001b[0;34m.\u001b[0m\u001b[0mcombine\u001b[0m\u001b[0;34m(\u001b[0m\u001b[0;34m)\u001b[0m\u001b[0;34m\u001b[0m\u001b[0;34m\u001b[0m\u001b[0m\n\u001b[0m",
      "\u001b[0;31mTypeError\u001b[0m: combine() missing required argument 'date' (pos 1)"
     ]
    }
   ],
   "source": []
  },
  {
   "cell_type": "code",
   "execution_count": 67,
   "metadata": {},
   "outputs": [],
   "source": [
    "# 回退状态\n",
    "web.close()"
   ]
  },
  {
   "cell_type": "code",
   "execution_count": 68,
   "metadata": {},
   "outputs": [
    {
     "data": {
      "text/plain": [
       "['CDwindow-F88451EC43B4B868C547B33F199F02B0']"
      ]
     },
     "execution_count": 68,
     "metadata": {},
     "output_type": "execute_result"
    }
   ],
   "source": [
    "web.window_handles"
   ]
  },
  {
   "cell_type": "code",
   "execution_count": 69,
   "metadata": {},
   "outputs": [
    {
     "name": "stderr",
     "output_type": "stream",
     "text": [
      "/tmp/ipykernel_101603/2060477876.py:1: DeprecationWarning: use driver.switch_to.window instead\n",
      "  web.switch_to_window(web.window_handles[0])\n"
     ]
    }
   ],
   "source": [
    "web.switch_to_window(web.window_handles[0])"
   ]
  },
  {
   "cell_type": "code",
   "execution_count": 19,
   "metadata": {},
   "outputs": [
    {
     "data": {
      "text/plain": [
       "'课程'"
      ]
     },
     "execution_count": 19,
     "metadata": {},
     "output_type": "execute_result"
    }
   ],
   "source": [
    "web.title"
   ]
  },
  {
   "cell_type": "code",
   "execution_count": 1,
   "metadata": {},
   "outputs": [
    {
     "data": {
      "text/plain": [
       "'234.4'"
      ]
     },
     "execution_count": 1,
     "metadata": {},
     "output_type": "execute_result"
    }
   ],
   "source": [
    "\"234.4分\"[0:-1]"
   ]
  },
  {
   "cell_type": "code",
   "execution_count": 21,
   "metadata": {},
   "outputs": [
    {
     "data": {
      "text/plain": [
       "'新标签页'"
      ]
     },
     "execution_count": 21,
     "metadata": {},
     "output_type": "execute_result"
    }
   ],
   "source": [
    "web.execute_script('window.open()')\n",
    "web.title"
   ]
  },
  {
   "cell_type": "code",
   "execution_count": 22,
   "metadata": {},
   "outputs": [
    {
     "data": {
      "text/plain": [
       "['CDwindow-F53915FAB54B6146928DA499734F8B55',\n",
       " 'CDwindow-DA073C5B7B377DAD6C35764AF9A13483',\n",
       " 'CDwindow-C6EE903111C4DA5B4B39C8D72E1447D5',\n",
       " 'CDwindow-AB09E3C7FB7225546281407B7F658EBE']"
      ]
     },
     "execution_count": 22,
     "metadata": {},
     "output_type": "execute_result"
    }
   ],
   "source": [
    "web.window_handles"
   ]
  },
  {
   "cell_type": "code",
   "execution_count": 24,
   "metadata": {},
   "outputs": [
    {
     "data": {
      "text/plain": [
       "'CDwindow-F53915FAB54B6146928DA499734F8B55'"
      ]
     },
     "execution_count": 24,
     "metadata": {},
     "output_type": "execute_result"
    }
   ],
   "source": [
    "web.current_window_handle"
   ]
  },
  {
   "cell_type": "code",
   "execution_count": 25,
   "metadata": {},
   "outputs": [
    {
     "data": {
      "text/plain": [
       "'CDwindow-E7C86584FE038E1F862C8C0EFECB98B3'"
      ]
     },
     "execution_count": 25,
     "metadata": {},
     "output_type": "execute_result"
    }
   ],
   "source": [
    "web = Chrome()\n",
    "web.get(\"https://google.com.hk\")\n",
    "print(web.current_window_handle)\n",
    "web.execute_script(\"window.open()\")\n",
    "web.current_window_handle"
   ]
  },
  {
   "cell_type": "code",
   "execution_count": 26,
   "metadata": {},
   "outputs": [
    {
     "data": {
      "text/plain": [
       "['CDwindow-E7C86584FE038E1F862C8C0EFECB98B3',\n",
       " 'CDwindow-00471190B39279829C9C9B4A30FF6351']"
      ]
     },
     "execution_count": 26,
     "metadata": {},
     "output_type": "execute_result"
    }
   ],
   "source": [
    "web.window_handles"
   ]
  },
  {
   "cell_type": "code",
   "execution_count": 29,
   "metadata": {},
   "outputs": [
    {
     "data": {
      "text/plain": [
       "'CDwindow-E7C86584FE038E1F862C8C0EFECB98B3'"
      ]
     },
     "execution_count": 29,
     "metadata": {},
     "output_type": "execute_result"
    }
   ],
   "source": [
    "web.current_window_handle"
   ]
  },
  {
   "cell_type": "code",
   "execution_count": null,
   "metadata": {},
   "outputs": [],
   "source": []
  }
 ],
 "metadata": {
  "interpreter": {
   "hash": "767d51c1340bd893661ea55ea3124f6de3c7a262a8b4abca0554b478b1e2ff90"
  },
  "kernelspec": {
   "display_name": "Python 3.9.9 64-bit",
   "language": "python",
   "name": "python3"
  },
  "language_info": {
   "codemirror_mode": {
    "name": "ipython",
    "version": 3
   },
   "file_extension": ".py",
   "mimetype": "text/x-python",
   "name": "python",
   "nbconvert_exporter": "python",
   "pygments_lexer": "ipython3",
   "version": "3.10.1"
  },
  "orig_nbformat": 4
 },
 "nbformat": 4,
 "nbformat_minor": 2
}
