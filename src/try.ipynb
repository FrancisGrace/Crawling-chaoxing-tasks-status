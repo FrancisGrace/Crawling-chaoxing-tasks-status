{
 "cells": [
  {
   "cell_type": "code",
   "execution_count": 1,
   "metadata": {},
   "outputs": [],
   "source": [
    "from selenium.webdriver import Chrome\n",
    "from selenium.webdriver.chrome.options import Options\n",
    "from selenium.webdriver.remote.webelement import WebElement\n",
    "from typing import *\n",
    "import os\n",
    "import time"
   ]
  },
  {
   "cell_type": "code",
   "execution_count": 2,
   "metadata": {},
   "outputs": [],
   "source": [
    "ops = Options()\n",
    "user_data = r'./user-data'\n",
    "if os.path.exists(user_data) == False:\n",
    "    os.mkdir(user_data)\n",
    "ops.add_argument(f'user-data-dir={user_data}')"
   ]
  },
  {
   "cell_type": "code",
   "execution_count": 3,
   "metadata": {},
   "outputs": [],
   "source": [
    "web = Chrome(options=ops)"
   ]
  },
  {
   "cell_type": "code",
   "execution_count": 4,
   "metadata": {},
   "outputs": [],
   "source": [
    "url = \"https://mooc2-ans.chaoxing.com/visit/interaction\""
   ]
  },
  {
   "cell_type": "code",
   "execution_count": 5,
   "metadata": {},
   "outputs": [],
   "source": [
    "web.get(url)\n",
    "time.sleep(3)"
   ]
  },
  {
   "cell_type": "code",
   "execution_count": 6,
   "metadata": {},
   "outputs": [],
   "source": [
    "els = web.find_elements_by_xpath(r'/html/body/div[1]/div[1]/div/div[2]/div/div[2]/div[3]/ul[1]/li/div[1]/a')"
   ]
  },
  {
   "cell_type": "code",
   "execution_count": 7,
   "metadata": {},
   "outputs": [],
   "source": [
    "els: List[WebElement]"
   ]
  },
  {
   "cell_type": "code",
   "execution_count": 8,
   "metadata": {},
   "outputs": [],
   "source": [
    "els[0].click()\n",
    "time.sleep(3)"
   ]
  },
  {
   "cell_type": "code",
   "execution_count": 9,
   "metadata": {},
   "outputs": [
    {
     "name": "stderr",
     "output_type": "stream",
     "text": [
      "/tmp/ipykernel_42660/2679155314.py:1: DeprecationWarning: use driver.switch_to.window instead\n",
      "  web.switch_to_window(web.window_handles[1])\n"
     ]
    }
   ],
   "source": [
    "web.switch_to_window(web.window_handles[1])"
   ]
  },
  {
   "cell_type": "code",
   "execution_count": 10,
   "metadata": {},
   "outputs": [],
   "source": [
    "# 切换到作业界面\n",
    "homework_button:WebElement = web.find_element_by_xpath(r'/html/body/div[1]/div[3]/div[1]/div/ul[1]/li[4]/a')\n",
    "homework_button.click()"
   ]
  },
  {
   "cell_type": "code",
   "execution_count": 11,
   "metadata": {},
   "outputs": [
    {
     "name": "stdout",
     "output_type": "stream",
     "text": [
      "<selenium.webdriver.remote.webelement.WebElement (session=\"3dc5328f8a3fe73fdb23a6dd05ccbd6d\", element=\"3b8ae88b-01be-4fe4-8102-99f8e06819ba\")>\n"
     ]
    },
    {
     "data": {
      "text/plain": [
       "'frame_content-hd'"
      ]
     },
     "execution_count": 11,
     "metadata": {},
     "output_type": "execute_result"
    }
   ],
   "source": [
    "# 进入其中一个页面\n",
    "iframe = web.find_element_by_xpath(r'/html/body/iframe[1]')\n",
    "print(iframe)\n",
    "iframe.get_attribute('id')"
   ]
  },
  {
   "cell_type": "code",
   "execution_count": 154,
   "metadata": {},
   "outputs": [],
   "source": [
    "web.switch_to.frame('frame_content-zy')"
   ]
  },
  {
   "cell_type": "code",
   "execution_count": 12,
   "metadata": {},
   "outputs": [],
   "source": [
    "# 回到旧版来方便快速提取信息\n",
    "web.find_element_by_xpath(\"/html/body/div[1]/div[1]/div/a\").click()"
   ]
  },
  {
   "cell_type": "code",
   "execution_count": 13,
   "metadata": {},
   "outputs": [],
   "source": [
    "tasks = web.find_elements_by_xpath(\"/html/body/div[3]/div[1]/div/div/div/div[2]/ul/li\")"
   ]
  },
  {
   "cell_type": "code",
   "execution_count": 16,
   "metadata": {},
   "outputs": [],
   "source": [
    "task:WebElement = tasks[0]"
   ]
  },
  {
   "cell_type": "code",
   "execution_count": 30,
   "metadata": {},
   "outputs": [
    {
     "name": "stdout",
     "output_type": "stream",
     "text": [
      "开始时间：\n",
      "2021-12-20 14:02\n",
      "截止时间：\n",
      "2021-12-29 18:00\n",
      "作业状态：\n",
      "已完成\n"
     ]
    }
   ],
   "source": [
    "# 数据\n",
    "print(task.find_elements_by_xpath(\"div[1]/span\")[0].text)\n",
    "print(task.find_elements_by_xpath(\"div[1]/span\")[1].text)\n",
    "print(task.find_elements_by_xpath(\"div[1]/span\")[2].text)"
   ]
  },
  {
   "cell_type": "code",
   "execution_count": 27,
   "metadata": {},
   "outputs": [
    {
     "data": {
      "text/plain": [
       "'5分'"
      ]
     },
     "execution_count": 27,
     "metadata": {},
     "output_type": "execute_result"
    }
   ],
   "source": [
    "task.find_element_by_xpath(\"div[2]/span\").text"
   ]
  },
  {
   "cell_type": "code",
   "execution_count": 158,
   "metadata": {},
   "outputs": [],
   "source": [
    "# # 新版条目提取\n",
    "# task_buttons = web.find_elements_by_xpath(r\"/html/body/div/div/div/div[2]/div[2]/ul/li\")\n",
    "# for i in task_buttons:\n",
    "#     print(i.text)"
   ]
  },
  {
   "cell_type": "code",
   "execution_count": 159,
   "metadata": {},
   "outputs": [
    {
     "name": "stdout",
     "output_type": "stream",
     "text": [
      "实验六、图形存储数据库Neo4j\n",
      "已完成\n",
      "大作业\n",
      "待批阅\n",
      "实验五 列式存储数据库HBase\n",
      "已完成\n",
      "实验四、键值对存储数据库Redis\n",
      "已完成\n",
      "实验二、MongoDB副本集\n",
      "已完成\n",
      "实验三、MongoDB分片\n",
      "已完成\n",
      "实验一、MongoDB数据库操作\n",
      "已完成\n"
     ]
    }
   ],
   "source": []
  },
  {
   "cell_type": "code",
   "execution_count": 150,
   "metadata": {},
   "outputs": [
    {
     "data": {
      "text/plain": [
       "''"
      ]
     },
     "execution_count": 150,
     "metadata": {},
     "output_type": "execute_result"
    }
   ],
   "source": []
  },
  {
   "cell_type": "code",
   "execution_count": 153,
   "metadata": {},
   "outputs": [],
   "source": []
  },
  {
   "cell_type": "code",
   "execution_count": null,
   "metadata": {},
   "outputs": [],
   "source": []
  }
 ],
 "metadata": {
  "interpreter": {
   "hash": "767d51c1340bd893661ea55ea3124f6de3c7a262a8b4abca0554b478b1e2ff90"
  },
  "kernelspec": {
   "display_name": "Python 3.9.9 64-bit",
   "language": "python",
   "name": "python3"
  },
  "language_info": {
   "codemirror_mode": {
    "name": "ipython",
    "version": 3
   },
   "file_extension": ".py",
   "mimetype": "text/x-python",
   "name": "python",
   "nbconvert_exporter": "python",
   "pygments_lexer": "ipython3",
   "version": "3.10.1"
  },
  "orig_nbformat": 4
 },
 "nbformat": 4,
 "nbformat_minor": 2
}
